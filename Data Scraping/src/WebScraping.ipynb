{
 "cells": [
  {
   "cell_type": "code",
   "execution_count": 1,
   "id": "2dc14a30",
   "metadata": {},
   "outputs": [],
   "source": [
    "# Import Libraries\n",
    "\n",
    "from bs4 import BeautifulSoup\n",
    "import pandas as pd\n",
    "import requests\n",
    "import datetime\n",
    "import time\n",
    "import smtplib\n",
    "import csv\n",
    "import openpyxl"
   ]
  },
  {
   "cell_type": "code",
   "execution_count": 2,
   "id": "c44c8b0b",
   "metadata": {},
   "outputs": [],
   "source": [
    "# Function to fetch the data based on the page number\n",
    "def extract_raw_data(page_number):\n",
    "    URL = 'https://www.zillow.com/homes/for_rent/Brooklyn,-New-York,-NY_rb/{}_p/'\n",
    "\n",
    "    headers = {\"User-Agent\": \"Mozilla/5.0 (Windows NT 6.1; WOW64) AppleWebKit/537.36 (KHTML, like Gecko) Chrome/44.0.2403.157 Safari/537.36\",\n",
    "               \"Accept\":\"text/html,application/xhtml+xml,application/xml;q=0.9,image/avif,image/webp,image/apng,*/*;q=0.8,application/signed-exchange;v=b3;q=0.9\",\n",
    "               \"Accept-Encoding\":\"gzip, deflate, br\",\"upgrade-insecure-requests\":\"1\"}\n",
    "\n",
    "    page = requests.get(URL.format(page_number), headers=headers)\n",
    "\n",
    "    soup = BeautifulSoup(page.content, \"html.parser\")\n",
    "    \n",
    "    return soup"
   ]
  },
  {
   "cell_type": "code",
   "execution_count": null,
   "id": "6c3041ff",
   "metadata": {},
   "outputs": [],
   "source": [
    "# Getting the property data\n",
    "\n",
    "# Simplified data\n",
    "simple_data = []\n",
    "\n",
    "# Get data from page to page\n",
    "for page_number in range(20):\n",
    "    \n",
    "    # Giving interlude so requests won't be constant and blocked\n",
    "    time.sleep(10)\n",
    "    soup = extract_raw_data(page_number)\n",
    "    \n",
    "    data = soup.find_all('div',{\"class\":\"StyledPropertyCardDataWrapper-c11n-8-89-0__sc-1omp4c3-0 eBcgiS property-card-data\"})\n",
    "    \n",
    "    for i in range(len(data)):\n",
    "        obj = {}\n",
    "        try:\n",
    "            obj[\"address\"] = data[i].find(\"a\", {\"class\":\"StyledPropertyCardDataArea-c11n-8-89-0__sc-yipmu-0 gZUDVm property-card-link\"}).text\n",
    "        except:\n",
    "            obj[\"address\"] = None\n",
    "\n",
    "        try:\n",
    "            obj[\"price\"] = data[i].find(\"div\", {\"class\":\"StyledPropertyCardDataArea-c11n-8-89-0__sc-yipmu-0 kvldQr\"}).text\n",
    "        except:\n",
    "            obj[\"price\"] = None\n",
    "\n",
    "        try:\n",
    "            obj[\"properties\"] = data[i].find(\"div\", {\"class\":\"StyledPropertyCardDataArea-c11n-8-89-0__sc-yipmu-0 eLdkcJ\"}).text\n",
    "        except:\n",
    "            obj[\"properties\"] = None\n",
    "\n",
    "        simple_data.append(obj)\n"
   ]
  },
  {
   "cell_type": "code",
   "execution_count": null,
   "id": "ac103585",
   "metadata": {
    "collapsed": true
   },
   "outputs": [],
   "source": [
    "# Check if the data is scrape successfully\n",
    "\n",
    "print(len(simple_data))\n",
    "simple_data"
   ]
  },
  {
   "cell_type": "code",
   "execution_count": null,
   "id": "afcfa32b",
   "metadata": {},
   "outputs": [],
   "source": [
    "# Saving simplified data to xlsx to be processed\n",
    "\n",
    "# Convert array to dataframe\n",
    "df = pd.DataFrame(simple_data)\n",
    "\n",
    "# Save DataFrame to Excel file\n",
    "df.to_excel('../data/data.xlsx', index=False)"
   ]
  },
  {
   "cell_type": "code",
   "execution_count": null,
   "id": "750561a2",
   "metadata": {},
   "outputs": [],
   "source": []
  }
 ],
 "metadata": {
  "kernelspec": {
   "display_name": "Python 3 (ipykernel)",
   "language": "python",
   "name": "python3"
  },
  "language_info": {
   "codemirror_mode": {
    "name": "ipython",
    "version": 3
   },
   "file_extension": ".py",
   "mimetype": "text/x-python",
   "name": "python",
   "nbconvert_exporter": "python",
   "pygments_lexer": "ipython3",
   "version": "3.9.7"
  }
 },
 "nbformat": 4,
 "nbformat_minor": 5
}
